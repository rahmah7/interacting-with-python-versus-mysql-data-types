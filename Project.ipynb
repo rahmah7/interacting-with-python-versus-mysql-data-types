import mysql.connector
from mysql.connector import Error

# 1. إعداد الاتصال بقاعدة البيانات
def create_connection():
    try:
        connection = mysql.connector.connect(
            host="localhost",            # تغيير هذا إذا كنت تستخدم عنوان IP أو Docker
            user="root",                 # استبدل باسم المستخدم
            password="my-secret-pw",     # استبدل بكلمة مرور MySQL الخاصة بك
            database="testdb"            # تأكد من أن قاعدة البيانات موجودة أو سيتم إنشاؤها
        )
        if connection.is_connected():
            print("تم الاتصال بنجاح بقاعدة البيانات!")
        return connection
    except Error as e:
        print(f"حدث خطأ في الاتصال بقاعدة البيانات: {e}")
        return None

# 2. إنشاء قاعدة بيانات جديدة
def create_database(connection):
    try:
        cursor = connection.cursor()
        cursor.execute("CREATE DATABASE IF NOT EXISTS testdb")
        print("تم إنشاء قاعدة البيانات testdb بنجاح (أو كانت موجودة بالفعل).")
    except Error as e:
        print(f"حدث خطأ أثناء إنشاء قاعدة البيانات: {e}")

# 3. إنشاء جدول مع أنواع بيانات متعددة
def create_table_and_insert_data(connection):
    try:
        cursor = connection.cursor()
        cursor.execute("USE testdb")
        
        # إنشاء جدول مع أنواع بيانات مختلفة
        cursor.execute("""
        CREATE TABLE IF NOT EXISTS user_data (
            id INT AUTO_INCREMENT PRIMARY KEY,
            name VARCHAR(100),
            age INT,
            birthdate DATE,
            is_active BOOLEAN,
            salary DECIMAL(10, 2),
            registration_timestamp TIMESTAMP DEFAULT CURRENT_TIMESTAMP
        )
        """)
        print("تم إنشاء الجدول user_data بنجاح.")
        
        # إدخال بعض البيانات مع أنواع مختلفة
        cursor.execute("INSERT INTO user_data (name, age, birthdate, is_active, salary) VALUES (%s, %s, %s, %s, %s)", 
                       ('Alice', 30, '1994-03-10', True, 5000.50))
        cursor.execute("INSERT INTO user_data (name, age, birthdate, is_active, salary) VALUES (%s, %s, %s, %s, %s)", 
                       ('Bob', 25, '1999-07-20', True, 4500.75))
        cursor.execute("INSERT INTO user_data (name, age, birthdate, is_active, salary) VALUES (%s, %s, %s, %s, %s)", 
                       ('Charlie', 35, '1989-08-15', False, 6000.00))
        connection.commit()
        print("تم إدخال البيانات بنجاح.")
        
    except Error as e:
        print(f"حدث خطأ أثناء إنشاء الجدول أو إدخال البيانات: {e}")

# 4. إجراء استعلام لقراءة البيانات
def fetch_data(connection):
    try:
        cursor = connection.cursor()
        cursor.execute("USE testdb")
        cursor.execute("SELECT * FROM user_data")
        results = cursor.fetchall()
        
        if results:
            print("البيانات في جدول user_data:")
            for row in results:
                print(f"id: {row[0]}, Name: {row[1]}, Age: {row[2]}, Birthdate: {row[3]}, Is Active: {row[4]}, Salary: {row[5]}, Timestamp: {row[6]}")
        else:
            print("لم يتم العثور على بيانات.")
    except Error as e:
        print(f"حدث خطأ أثناء استعلام البيانات: {e}")

# 5. التعامل مع أنواع بيانات Python و MySQL
def handle_python_mysql_types():
    # أنواع بيانات Python
    python_int = 10
    python_float = 25.75
    python_str = "Hello, MySQL!"
    python_bool = True
    python_none = None
    python_date = '2024-12-05'
    python_datetime = '2024-12-05 10:00:00'
    
    # قم بتحويل هذه البيانات إلى MySQL بشكل صحيح عبر استعلامات SQL:
    print(f"Python Integer: {python_int}, MySQL INT")
    print(f"Python Float: {python_float}, MySQL DECIMAL")
    print(f"Python String: {python_str}, MySQL VARCHAR")
    print(f"Python Boolean: {python_bool}, MySQL BOOLEAN")
    print(f"Python None (NULL in MySQL): {python_none}, MySQL NULL")
    print(f"Python Date: {python_date}, MySQL DATE")
    print(f"Python Datetime: {python_datetime}, MySQL DATETIME")

# 6. تحديث البيانات
def update_data(connection):
    try:
        cursor = connection.cursor()
        cursor.execute("USE testdb")
        cursor.execute("UPDATE user_data SET salary = %s WHERE name = %s", (5500.00, 'Alice'))
        connection.commit()
        print("تم تحديث البيانات بنجاح.")
    except Error as e:
        print(f"حدث خطأ أثناء تحديث البيانات: {e}")

# 7. حذف البيانات
def delete_data(connection):
    try:
        cursor = connection.cursor()
        cursor.execute("USE testdb")
        cursor.execute("DELETE FROM user_data WHERE name = %s", ('Bob',))
        connection.commit()
        print("تم حذف البيانات بنجاح.")
    except Error as e:
        print(f"حدث خطأ أثناء حذف البيانات: {e}")

# البرنامج الرئيسي
if __name__ == "__main__":
    connection = create_connection()
    if connection:
        create_database(connection)
        create_table_and_insert_data(connection)
        fetch_data(connection)
        handle_python_mysql_types()  # طباعة التفاعل بين أنواع البيانات
        update_data(connection)
        delete_data(connection)
        
        # إغلاق الاتصال بقاعدة البيانات
        if connection.is_connected():
            connection.close()
            print("تم إغلاق الاتصال بقاعدة البيانات.")
